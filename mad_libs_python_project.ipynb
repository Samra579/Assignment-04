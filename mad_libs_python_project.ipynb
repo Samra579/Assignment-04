{
  "nbformat": 4,
  "nbformat_minor": 0,
  "metadata": {
    "colab": {
      "provenance": [],
      "authorship_tag": "ABX9TyPkSkCPYsMem1z5O9fbcX2f",
      "include_colab_link": true
    },
    "kernelspec": {
      "name": "python3",
      "display_name": "Python 3"
    },
    "language_info": {
      "name": "python"
    }
  },
  "cells": [
    {
      "cell_type": "markdown",
      "metadata": {
        "id": "view-in-github",
        "colab_type": "text"
      },
      "source": [
        "<a href=\"https://colab.research.google.com/github/Samra579/Assignment-04/blob/main/mad_libs_python_project.ipynb\" target=\"_parent\"><img src=\"https://colab.research.google.com/assets/colab-badge.svg\" alt=\"Open In Colab\"/></a>"
      ]
    },
    {
      "cell_type": "code",
      "execution_count": 1,
      "metadata": {
        "colab": {
          "base_uri": "https://localhost:8080/"
        },
        "id": "4tIkdO3piRh1",
        "outputId": "c7517f6c-d307-4a45-eeb0-01d580eb21a0"
      },
      "outputs": [
        {
          "output_type": "stream",
          "name": "stdout",
          "text": [
            "Welcome to Mad Libs!\n",
            "Please provide the following words:\n",
            "\n",
            "Enter an adjective: red\n",
            "Enter a noun: ali\n",
            "Enter a verb: play\n",
            "Enter a place: karachi\n",
            "Enter an adverb: fast\n",
            "\n",
            "Here's your Mad Libs story:\n",
            "\n",
            "    One day, a red ali decided to play through the streets of karachi.\n",
            "    Everyone was shocked because it was doing it so fast!\n",
            "    What a strange day!\n",
            "    \n"
          ]
        }
      ],
      "source": [
        "def main():\n",
        "    print(\"Welcome to Mad Libs!\")\n",
        "    print(\"Please provide the following words:\\n\")\n",
        "\n",
        "    # Ask the user for inputs\n",
        "    adjective = input(\"Enter an adjective: \")\n",
        "    noun = input(\"Enter a noun: \")\n",
        "    verb = input(\"Enter a verb: \")\n",
        "    place = input(\"Enter a place: \")\n",
        "    adverb = input(\"Enter an adverb: \")\n",
        "\n",
        "    # Story template\n",
        "    story = f\"\"\"\n",
        "    One day, a {adjective} {noun} decided to {verb} through the streets of {place}.\n",
        "    Everyone was shocked because it was doing it so {adverb}!\n",
        "    What a strange day!\n",
        "    \"\"\"\n",
        "\n",
        "    print(\"\\nHere's your Mad Libs story:\")\n",
        "    print(story)\n",
        "\n",
        "if __name__ == '__main__':\n",
        "    main()\n"
      ]
    }
  ]
}