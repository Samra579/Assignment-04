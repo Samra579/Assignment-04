{
  "nbformat": 4,
  "nbformat_minor": 0,
  "metadata": {
    "colab": {
      "provenance": [],
      "authorship_tag": "ABX9TyMDam2vkmD3qw/fOaHTIhUu",
      "include_colab_link": true
    },
    "kernelspec": {
      "name": "python3",
      "display_name": "Python 3"
    },
    "language_info": {
      "name": "python"
    }
  },
  "cells": [
    {
      "cell_type": "markdown",
      "metadata": {
        "id": "view-in-github",
        "colab_type": "text"
      },
      "source": [
        "<a href=\"https://colab.research.google.com/github/Samra579/Assignment-04/blob/main/Untitled2.ipynb\" target=\"_parent\"><img src=\"https://colab.research.google.com/assets/colab-badge.svg\" alt=\"Open In Colab\"/></a>"
      ]
    },
    {
      "cell_type": "code",
      "source": [],
      "metadata": {
        "id": "qubE4S0ZrW-7"
      },
      "execution_count": null,
      "outputs": []
    },
    {
      "cell_type": "code",
      "execution_count": null,
      "metadata": {
        "colab": {
          "base_uri": "https://localhost:8080/"
        },
        "id": "wEbtcUyJqgXE",
        "outputId": "b95d901f-cc50-4438-fcf3-531164f7a7f9"
      },
      "outputs": [
        {
          "output_type": "stream",
          "name": "stdout",
          "text": [
            "🎮 Welcome to Hangman!\n",
            "\n",
            "You have 6 lives left. Used letters: \n",
            "Word: _ _ _ _ _ _ _ _\n",
            "Guess a letter: a\n",
            "✅ Correct!\n",
            "\n",
            "You have 6 lives left. Used letters: A\n",
            "Word: _ _ _ _ _ A _ _\n",
            "Guess a letter: apple\n",
            "Invalid character. Please enter a letter.\n",
            "\n",
            "You have 6 lives left. Used letters: A\n",
            "Word: _ _ _ _ _ A _ _\n",
            "Guess a letter: a\n",
            "⚠️ You already used that letter. Try again.\n",
            "\n",
            "You have 6 lives left. Used letters: A\n",
            "Word: _ _ _ _ _ A _ _\n",
            "Guess a letter: b\n",
            "✅ Correct!\n",
            "\n",
            "You have 6 lives left. Used letters: A B\n",
            "Word: _ _ _ B _ A _ _\n",
            "Guess a letter: d\n",
            "✅ Correct!\n",
            "\n",
            "You have 6 lives left. Used letters: A D B\n",
            "Word: _ _ _ B _ A _ D\n",
            "Guess a letter: t\n",
            "❌ Wrong guess.\n",
            "\n",
            "You have 5 lives left. Used letters: A D T B\n",
            "Word: _ _ _ B _ A _ D\n",
            "Guess a letter: u\n",
            "❌ Wrong guess.\n",
            "\n",
            "You have 4 lives left. Used letters: U A D B T\n",
            "Word: _ _ _ B _ A _ D\n",
            "Guess a letter: l\n",
            "❌ Wrong guess.\n",
            "\n",
            "You have 3 lives left. Used letters: U A D B T L\n",
            "Word: _ _ _ B _ A _ D\n"
          ]
        }
      ],
      "source": [
        "import random\n",
        "import string\n",
        "\n",
        "def get_valid_word(word_list):\n",
        "    word = random.choice(word_list)\n",
        "    while '-' in word or ' ' in word:\n",
        "        word = random.choice(word_list)\n",
        "    return word.upper()\n",
        "\n",
        "def hangman():\n",
        "    word_list = [\"developer\", \"python\", \"hangman\", \"challenge\", \"keyboard\", \"streamlit\"]\n",
        "    word = get_valid_word(word_list)\n",
        "    word_letters = set(word)  # letters in the word\n",
        "    alphabet = set(string.ascii_uppercase)\n",
        "    used_letters = set()  # what the user has guessed\n",
        "\n",
        "    lives = 6\n",
        "\n",
        "    print(\"🎮 Welcome to Hangman!\\n\")\n",
        "\n",
        "    # game loop\n",
        "    while len(word_letters) > 0 and lives > 0:\n",
        "        # Show used letters and lives\n",
        "        print(f\"You have {lives} lives left. Used letters: {' '.join(used_letters)}\")\n",
        "\n",
        "        # show current word status\n",
        "        word_display = [letter if letter in used_letters else '_' for letter in word]\n",
        "        print(\"Word:\", ' '.join(word_display))\n",
        "\n",
        "        # get user input\n",
        "        user_letter = input(\"Guess a letter: \").upper()\n",
        "\n",
        "        if user_letter in alphabet - used_letters:\n",
        "            used_letters.add(user_letter)\n",
        "\n",
        "            if user_letter in word_letters:\n",
        "                word_letters.remove(user_letter)\n",
        "                print(\"✅ Correct!\")\n",
        "            else:\n",
        "                lives -= 1\n",
        "                print(\"❌ Wrong guess.\")\n",
        "\n",
        "        elif user_letter in used_letters:\n",
        "            print(\"⚠️ You already used that letter. Try again.\")\n",
        "        else:\n",
        "            print(\"Invalid character. Please enter a letter.\")\n",
        "\n",
        "        print()\n",
        "\n",
        "    # end of game\n",
        "    if lives == 0:\n",
        "        print(f\"💀 You died, the word was: {word}\")\n",
        "    else:\n",
        "        print(f\"🎉 You guessed the word: {word}!\")\n",
        "\n",
        "if __name__ == '__main__':\n",
        "    hangman()\n"
      ]
    }
  ]
}