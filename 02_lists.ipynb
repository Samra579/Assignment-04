{
  "nbformat": 4,
  "nbformat_minor": 0,
  "metadata": {
    "colab": {
      "provenance": [],
      "authorship_tag": "ABX9TyOrUsog52iEZL4/RIHhCTZZ",
      "include_colab_link": true
    },
    "kernelspec": {
      "name": "python3",
      "display_name": "Python 3"
    },
    "language_info": {
      "name": "python"
    }
  },
  "cells": [
    {
      "cell_type": "markdown",
      "metadata": {
        "id": "view-in-github",
        "colab_type": "text"
      },
      "source": [
        "<a href=\"https://colab.research.google.com/github/Samra579/Assignment-04/blob/main/02_lists.ipynb\" target=\"_parent\"><img src=\"https://colab.research.google.com/assets/colab-badge.svg\" alt=\"Open In Colab\"/></a>"
      ]
    },
    {
      "cell_type": "code",
      "execution_count": null,
      "metadata": {
        "id": "hACMCw_JDZEX"
      },
      "outputs": [],
      "source": []
    },
    {
      "cell_type": "code",
      "execution_count": null,
      "metadata": {
        "colab": {
          "base_uri": "https://localhost:8080/"
        },
        "id": "U5IHR3_nmu8y",
        "outputId": "0c250e8a-7236-44c6-b46d-f170ff214269"
      },
      "outputs": [
        {
          "output_type": "stream",
          "name": "stdout",
          "text": [
            "15\n"
          ]
        }
      ],
      "source": [
        "def add_many_numbers(numbers)-> int:\n",
        "    \"\"\"\n",
        "    Takes in a list of numbers and returns the sum of those numbers.\n",
        "    \"\"\"\n",
        "\n",
        "    total_so_far: int = 0\n",
        "    for number in numbers:\n",
        "        total_so_far += number\n",
        "\n",
        "    return total_so_far\n",
        "\n",
        "\n",
        "\n",
        "def main():\n",
        "    numbers: list[int] = [1, 2, 3, 4, 5]\n",
        "    sum_of_numbers: int = add_many_numbers(numbers)\n",
        "    print(sum_of_numbers)\n",
        "\n",
        "\n",
        "if __name__ == '__main__':\n",
        "    main()"
      ]
    },
    {
      "cell_type": "code",
      "source": [
        "def main():\n",
        "    numbers: list[int] = [1, 2, 3, 4]\n",
        "\n",
        "    for i in range(len(numbers)):\n",
        "        elem_at_index = numbers[i]\n",
        "        numbers[i] = elem_at_index * 2\n",
        "\n",
        "    print(numbers)\n",
        "\n",
        "if __name__ == '__main__':\n",
        "    main()"
      ],
      "metadata": {
        "colab": {
          "base_uri": "https://localhost:8080/"
        },
        "id": "B-lEdBgJnSME",
        "outputId": "a8c07754-1401-420c-af9b-e93a1f4db131"
      },
      "execution_count": null,
      "outputs": [
        {
          "output_type": "stream",
          "name": "stdout",
          "text": [
            "[2, 4, 6, 8]\n"
          ]
        }
      ]
    },
    {
      "cell_type": "code",
      "source": [
        "def add_three_copies(my_list, data):\n",
        "    for i in range(3):\n",
        "        my_list.append(data)\n",
        "\n",
        "def main():\n",
        "    message = input(\"Enter a message to copy: \")\n",
        "    my_list = []\n",
        "    print(\"List before:\", my_list)\n",
        "    add_three_copies(my_list, message)\n",
        "    print(\"List after:\", my_list)\n",
        "\n",
        "if __name__ == \"__main__\":\n",
        "    main()"
      ],
      "metadata": {
        "id": "Kfs0rTOIrTCW",
        "outputId": "65a00333-e21c-4cac-a805-c4f9b80fb604",
        "colab": {
          "base_uri": "https://localhost:8080/"
        }
      },
      "execution_count": null,
      "outputs": [
        {
          "output_type": "stream",
          "name": "stdout",
          "text": [
            "Enter a message to copy: good morning\n",
            "List before: []\n",
            "List after: ['good morning', 'good morning', 'good morning']\n"
          ]
        }
      ]
    },
    {
      "cell_type": "code",
      "source": [
        "\n",
        "def get_first_element(lst):\n",
        "    \"\"\"\n",
        "    Prints the first element of a provided list.\n",
        "    \"\"\"\n",
        "\n",
        "    print(lst[0])\n",
        "\n",
        "\n",
        "\n",
        "def get_lst():\n",
        "    \"\"\"\n",
        "    Prompts the user to enter one element of the list at a time and returns the resulting list.\n",
        "    \"\"\"\n",
        "    lst = []\n",
        "    elem: str = input(\"Please enter an element of the list or press enter to stop. \")\n",
        "    while elem != \"\":\n",
        "        lst.append(elem)\n",
        "        elem = input(\"Please enter an element of the list or press enter to stop. \")\n",
        "    return lst\n",
        "\n",
        "def main():\n",
        "    lst = get_lst()\n",
        "    get_first_element(lst)\n",
        "\n",
        "\n",
        "if __name__ == '__main__':\n",
        "    main()\n",
        "\n"
      ],
      "metadata": {
        "id": "AYc2eUjAtXVk",
        "outputId": "2bd0d14b-7a09-4832-a20c-93cbf49badce",
        "colab": {
          "base_uri": "https://localhost:8080/"
        }
      },
      "execution_count": null,
      "outputs": [
        {
          "output_type": "stream",
          "name": "stdout",
          "text": [
            "Please enter an element of the list or press enter to stop. 2\n",
            "Please enter an element of the list or press enter to stop. \n",
            "2\n"
          ]
        }
      ]
    },
    {
      "cell_type": "code",
      "source": [
        "def get_last_element(lst):\n",
        "    \"\"\"Prints the last element of a non-empty list\"\"\"\n",
        "    print(lst[-1])\n",
        "def main():\n",
        "\n",
        "    test_list1 = [1, 2, 3, 4, 5]\n",
        "    test_list2 = [\"apple\", \"banana\", \"orange\"]\n",
        "    test_list3 = [True, False]\n",
        "    test_list4 = [42]\n",
        "\n",
        "\n",
        "    print(\"Test 1:\", end=\" \")\n",
        "    get_last_element(test_list1)\n",
        "\n",
        "    print(\"Test 2:\", end=\" \")\n",
        "    get_last_element(test_list2)\n",
        "\n",
        "    print(\"Test 3:\", end=\" \")\n",
        "    get_last_element(test_list3)\n",
        "\n",
        "    print(\"Test 4:\", end=\" \")\n",
        "    get_last_element(test_list4)\n",
        "\n",
        "if __name__ == '__main__':\n",
        "    main()"
      ],
      "metadata": {
        "id": "IQARS0y_t-m9",
        "outputId": "f848bc06-aae0-49de-ea2d-a7083122eed5",
        "colab": {
          "base_uri": "https://localhost:8080/"
        }
      },
      "execution_count": null,
      "outputs": [
        {
          "output_type": "stream",
          "name": "stdout",
          "text": [
            "Test 1: 5\n",
            "Test 2: orange\n",
            "Test 3: False\n",
            "Test 4: 42\n"
          ]
        }
      ]
    },
    {
      "cell_type": "code",
      "source": [
        "def main():\n",
        "    lst = []\n",
        "    val = input(\"Enter a value: \")\n",
        "    while val:\n",
        "        lst.append(val)\n",
        "        val = input(\"Enter a value: \")\n",
        "\n",
        "    print(\"Here's the list:\", lst)\n",
        "\n",
        "if __name__ == '__main__':\n",
        "    main()"
      ],
      "metadata": {
        "id": "FFGRVGtnvK6k",
        "outputId": "679a9ec9-bdb3-4310-8e75-710fdde6dc6f",
        "colab": {
          "base_uri": "https://localhost:8080/"
        }
      },
      "execution_count": null,
      "outputs": [
        {
          "name": "stdout",
          "output_type": "stream",
          "text": [
            "Enter a value: 2\n",
            "Enter a value: 4\n",
            "Enter a value: 6\n",
            "Enter a value: 8\n"
          ]
        }
      ]
    }
  ]
}