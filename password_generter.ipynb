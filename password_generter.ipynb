{
  "nbformat": 4,
  "nbformat_minor": 0,
  "metadata": {
    "colab": {
      "provenance": [],
      "authorship_tag": "ABX9TyOpfmCEgXJ4Rw+NAUjqlEze",
      "include_colab_link": true
    },
    "kernelspec": {
      "name": "python3",
      "display_name": "Python 3"
    },
    "language_info": {
      "name": "python"
    }
  },
  "cells": [
    {
      "cell_type": "markdown",
      "metadata": {
        "id": "view-in-github",
        "colab_type": "text"
      },
      "source": [
        "<a href=\"https://colab.research.google.com/github/Samra579/Assignment-04/blob/main/password_generter.ipynb\" target=\"_parent\"><img src=\"https://colab.research.google.com/assets/colab-badge.svg\" alt=\"Open In Colab\"/></a>"
      ]
    },
    {
      "cell_type": "code",
      "source": [
        "import random\n",
        "import string\n",
        "\n",
        "def generate_password(length):\n",
        "    characters = string.ascii_letters + string.digits + string.punctuation\n",
        "    password = ''.join(random.choice(characters) for _ in range(length))\n",
        "    return password\n",
        "\n",
        "def main():\n",
        "    print(\"🔐 Random Password Generator\")\n",
        "\n",
        "    try:\n",
        "        num_passwords = int(input(\"How many passwords do you want to generate? \"))\n",
        "        password_length = int(input(\"Length of each password? \"))\n",
        "\n",
        "        print(\"\\nHere are your passwords:\\n\")\n",
        "        for _ in range(num_passwords):\n",
        "            print(generate_password(password_length))\n",
        "\n",
        "    except ValueError:\n",
        "        print(\"⚠️ Please enter valid numbers!\")\n",
        "\n",
        "if __name__ == \"__main__\":\n",
        "    main()\n"
      ],
      "metadata": {
        "colab": {
          "base_uri": "https://localhost:8080/"
        },
        "id": "n5zAvaaGK-TE",
        "outputId": "f99ae313-f1a9-4007-c1c8-66e2273a8fc6"
      },
      "execution_count": 1,
      "outputs": [
        {
          "output_type": "stream",
          "name": "stdout",
          "text": [
            "🔐 Random Password Generator\n",
            "How many passwords do you want to generate? 10\n",
            "Length of each password? 10\n",
            "\n",
            "Here are your passwords:\n",
            "\n",
            "'&Shx|)f'h\n",
            "*(SjZ,g93x\n",
            "4WxIWmgHG=\n",
            "A3(b6}s9c8\n",
            "`}9_r12Ix^\n",
            "D5KzbA/AB$\n",
            "%Ja3V9r428\n",
            "ss~f69Nih6\n",
            "X=FHpO//0U\n",
            "vwI;b(=g5l\n"
          ]
        }
      ]
    }
  ]
}