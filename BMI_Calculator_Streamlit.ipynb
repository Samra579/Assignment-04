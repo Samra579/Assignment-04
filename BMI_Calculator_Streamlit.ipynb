{
  "nbformat": 4,
  "nbformat_minor": 0,
  "metadata": {
    "colab": {
      "provenance": [],
      "authorship_tag": "ABX9TyPxuIS3pCMr7fRQnTwx5vsg",
      "include_colab_link": true
    },
    "kernelspec": {
      "name": "python3",
      "display_name": "Python 3"
    },
    "language_info": {
      "name": "python"
    }
  },
  "cells": [
    {
      "cell_type": "markdown",
      "metadata": {
        "id": "view-in-github",
        "colab_type": "text"
      },
      "source": [
        "<a href=\"https://colab.research.google.com/github/Samra579/Assignment-04/blob/main/BMI_Calculator_Streamlit.ipynb\" target=\"_parent\"><img src=\"https://colab.research.google.com/assets/colab-badge.svg\" alt=\"Open In Colab\"/></a>"
      ]
    },
    {
      "cell_type": "code",
      "source": [
        "import streamlit as st\n",
        "\n",
        "# Title\n",
        "st.title(\"💪 BMI Calculator\")\n",
        "\n",
        "# Input fields\n",
        "st.subheader(\"Enter your details:\")\n",
        "weight = st.number_input(\"Weight (in kilograms)\", min_value=1.0)\n",
        "height = st.number_input(\"Height (in centimeters)\", min_value=1.0)\n",
        "\n",
        "# BMI Calculation\n",
        "if st.button(\"Calculate BMI\"):\n",
        "    height_m = height / 100  # Convert cm to meters\n",
        "    bmi = weight / (height_m ** 2)\n",
        "    bmi = round(bmi, 2)\n",
        "\n",
        "    st.subheader(\"🧮 Your BMI is:\")\n",
        "    st.success(f\"{bmi}\")\n",
        "\n",
        "    # Category check\n",
        "    if bmi < 18.5:\n",
        "        st.warning(\"You are underweight.\")\n",
        "    elif 18.5 <= bmi < 24.9:\n",
        "        st.info(\"You have a normal weight. Great job!\")\n",
        "    elif 25 <= bmi < 29.9:\n",
        "        st.warning(\"You are overweight.\")\n",
        "    else:\n",
        "        st.error(\"You are obese. Please take care!\")\n",
        "\n",
        "# Footer\n",
        "st.markdown(\"---\")\n",
        "st.caption(\"Made with ❤️ using Streamlit\")\n"
      ],
      "metadata": {
        "id": "pzCvm8zQpOts"
      },
      "execution_count": null,
      "outputs": []
    }
  ]
}