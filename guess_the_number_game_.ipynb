{
  "nbformat": 4,
  "nbformat_minor": 0,
  "metadata": {
    "colab": {
      "provenance": [],
      "authorship_tag": "ABX9TyOOIpVgxrQzDBposGZcFEUc",
      "include_colab_link": true
    },
    "kernelspec": {
      "name": "python3",
      "display_name": "Python 3"
    },
    "language_info": {
      "name": "python"
    }
  },
  "cells": [
    {
      "cell_type": "markdown",
      "metadata": {
        "id": "view-in-github",
        "colab_type": "text"
      },
      "source": [
        "<a href=\"https://colab.research.google.com/github/Samra579/Assignment-04/blob/main/guess_the_number_game_.ipynb\" target=\"_parent\"><img src=\"https://colab.research.google.com/assets/colab-badge.svg\" alt=\"Open In Colab\"/></a>"
      ]
    },
    {
      "cell_type": "code",
      "execution_count": 2,
      "metadata": {
        "colab": {
          "base_uri": "https://localhost:8080/"
        },
        "collapsed": true,
        "id": "VPkNaqFPlLdo",
        "outputId": "992d0f34-29af-47a3-9de0-9cb7313a741f"
      },
      "outputs": [
        {
          "output_type": "stream",
          "name": "stdout",
          "text": [
            "Welcome to the 'Guess the Number' game!\n",
            "Think of a number between 1 and 100 and I will try to guess it.\n",
            "My guess is: 50\n",
            "Is it too high (H), too low (L), or correct (C)? 33\n",
            "Invalid input. Please enter 'H' for too high, 'L' for too low, or 'C' for correct.\n",
            "My guess is: 50\n",
            "Is it too high (H), too low (L), or correct (C)? c\n",
            "Yay! I guessed your number 50 in 2 tries! 🎉\n"
          ]
        }
      ],
      "source": [
        "def main():\n",
        "    print(\"Welcome to the 'Guess the Number' game!\")\n",
        "    print(\"Think of a number between 1 and 100 and I will try to guess it.\")\n",
        "\n",
        "    low = 1\n",
        "    high = 100\n",
        "    tries = 0\n",
        "\n",
        "    while True:\n",
        "        guess = (low + high) // 2  # Computer guesses mid-point\n",
        "        tries += 1\n",
        "        print(f\"My guess is: {guess}\")\n",
        "\n",
        "        # Ask user for feedback\n",
        "        feedback = input(\"Is it too high (H), too low (L), or correct (C)? \").strip().lower()\n",
        "\n",
        "        if feedback == 'h':\n",
        "            high = guess - 1\n",
        "        elif feedback == 'l':\n",
        "            low = guess + 1\n",
        "        elif feedback == 'c':\n",
        "            print(f\"Yay! I guessed your number {guess} in {tries} tries! 🎉\")\n",
        "            break\n",
        "        else:\n",
        "            print(\"Invalid input. Please enter 'H' for too high, 'L' for too low, or 'C' for correct.\")\n",
        "\n",
        "if __name__ == '__main__':\n",
        "    main()\n"
      ]
    }
  ]
}