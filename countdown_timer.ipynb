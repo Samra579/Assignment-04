{
  "nbformat": 4,
  "nbformat_minor": 0,
  "metadata": {
    "colab": {
      "provenance": [],
      "authorship_tag": "ABX9TyPwzRnrYg8UK8Pi1zxJJkBK",
      "include_colab_link": true
    },
    "kernelspec": {
      "name": "python3",
      "display_name": "Python 3"
    },
    "language_info": {
      "name": "python"
    }
  },
  "cells": [
    {
      "cell_type": "markdown",
      "metadata": {
        "id": "view-in-github",
        "colab_type": "text"
      },
      "source": [
        "<a href=\"https://colab.research.google.com/github/Samra579/Assignment-04/blob/main/countdown_timer.ipynb\" target=\"_parent\"><img src=\"https://colab.research.google.com/assets/colab-badge.svg\" alt=\"Open In Colab\"/></a>"
      ]
    },
    {
      "cell_type": "code",
      "execution_count": 1,
      "metadata": {
        "colab": {
          "base_uri": "https://localhost:8080/"
        },
        "id": "7tqgHoe8uGHN",
        "outputId": "335316a0-d509-41ba-9c5d-c75968190107"
      },
      "outputs": [
        {
          "output_type": "stream",
          "name": "stdout",
          "text": [
            "🕒 Countdown Timer\n",
            "Enter time in seconds: 3\n",
            "⏰ Time's up!\n"
          ]
        }
      ],
      "source": [
        "import time\n",
        "\n",
        "def countdown_timer(seconds):\n",
        "    while seconds > 0:\n",
        "        mins = seconds // 60\n",
        "        secs = seconds % 60\n",
        "        time_format = f\"{mins:02d}:{secs:02d}\"\n",
        "        print(time_format, end='\\r')  # overwrite line\n",
        "        time.sleep(1)\n",
        "        seconds -= 1\n",
        "\n",
        "    print(\"⏰ Time's up!\")\n",
        "\n",
        "def main():\n",
        "    print(\"🕒 Countdown Timer\")\n",
        "    try:\n",
        "        total_seconds = int(input(\"Enter time in seconds: \"))\n",
        "        countdown_timer(total_seconds)\n",
        "    except ValueError:\n",
        "        print(\"Please enter a valid number!\")\n",
        "\n",
        "if __name__ == \"__main__\":\n",
        "    main()\n"
      ]
    }
  ]
}