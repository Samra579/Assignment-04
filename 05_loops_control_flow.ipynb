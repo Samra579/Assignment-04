

Open In Colab

MAX_TERM_VALUE : int = 10000

def main():
    curr_term = 0
    next_term = 
1

    while curr_term <= MAX_TERM_VALUE:
        print(curr_term)
        term_after_next = curr_term + next_term
        curr_term = next_term
        next_term = term_after_next




if __name__ == '__main__':
    main()
     

0
1
1
2
3
5
8
13
21
34
55
89
144
233
377
610
987
1597
2584
4181
6765


def main():

    for i in range(20):
        print(i * 2)


if __name__ == "__main__":
    main()
     

0
2
4
6
8
10
12
14
16
18
20
22
24
26
28
30
32
34
36
38


AFFIRMATION : str = "I am capable of doing anything I put my mind to."

def main():
    print("Please type the following affirmation: " + AFFIRMATION)

    user_feedback = input()
    while user_feedback != AFFIRMATION:

        print("That was not the affirmation.")


        print("Please type the following affirmation: " + AFFIRMATION)
        user_feedback = input()

    print("That's right! :)")



if __name__ == '__main__':
    main()
     

Please type the following affirmation: I am capable of doing anything I put my mind to.
I am capable of doing anything I put my mind to.
That's right! :)


def main():

    for i in range(10, 0, -1):
        print(i, end=' ')


    print("Liftoff!")

if __name__ == '__main__':
    main()
     

10 9 8 7 6 5 4 3 2 1 Liftoff!


def main():

    try:
        curr_value = int(input("Enter a number: "))
    except ValueError:
        print("Please enter a valid integer.")
        return

    while curr_value < 100:
        curr_value *= 2
        print(curr_value, end=' ')

    print()

if __name__ == '__main__':
    main()
     

Enter a number: 2
4 8 16 32 64 128 

