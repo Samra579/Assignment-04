{
  "nbformat": 4,
  "nbformat_minor": 0,
  "metadata": {
    "colab": {
      "provenance": [],
      "authorship_tag": "ABX9TyP8OUPmAfhZ18ipGmvYSaxN",
      "include_colab_link": true
    },
    "kernelspec": {
      "name": "python3",
      "display_name": "Python 3"
    },
    "language_info": {
      "name": "python"
    }
  },
  "cells": [
    {
      "cell_type": "markdown",
      "metadata": {
        "id": "view-in-github",
        "colab_type": "text"
      },
      "source": [
        "<a href=\"https://colab.research.google.com/github/Samra579/Assignment-04/blob/main/04_dictionaries.ipynb\" target=\"_parent\"><img src=\"https://colab.research.google.com/assets/colab-badge.svg\" alt=\"Open In Colab\"/></a>"
      ]
    },
    {
      "cell_type": "code",
      "execution_count": null,
      "metadata": {
        "id": "_nmkSTvPE6ya"
      },
      "outputs": [],
      "source": []
    },
    {
      "cell_type": "code",
      "execution_count": null,
      "metadata": {
        "colab": {
          "base_uri": "https://localhost:8080/"
        },
        "id": "ztR2M4OZ3p0R",
        "outputId": "5e4adc9a-edc7-4ead-9cb2-ad706700ac3f"
      },
      "outputs": [
        {
          "output_type": "stream",
          "name": "stdout",
          "text": [
            "Enter a number: 2\n",
            "Enter a number: 3\n",
            "Enter a number: \n",
            "2 appears 1 times.\n",
            "3 appears 1 times.\n"
          ]
        }
      ],
      "source": [
        "def get_user_numbers():\n",
        "    \"\"\"\n",
        "    Create an empty list.\n",
        "    Ask the user to input numbers and store them in a list.\n",
        "    Once they enter a blank line, break out of the loop and return the list.\n",
        "    \"\"\"\n",
        "    user_numbers = []\n",
        "    while True:\n",
        "        user_input = input(\"Enter a number: \")\n",
        "\n",
        "\n",
        "        if user_input == \"\":\n",
        "            break\n",
        "\n",
        "\n",
        "        num = int(user_input)\n",
        "        user_numbers.append(num)\n",
        "\n",
        "    return user_numbers\n",
        "\n",
        "def count_nums(num_lst):\n",
        "    \"\"\"\n",
        "    Create an empty dictionary.\n",
        "    Loop over the list of numbers.\n",
        "    If the number is not in the dictionary, add it as a key with a value of 1.\n",
        "    If the number is in the dictionary, increment its value by 1.\n",
        "    \"\"\"\n",
        "    num_dict = {}\n",
        "    for num in num_lst:\n",
        "        if num not in num_dict:\n",
        "            num_dict[num] = 1\n",
        "        else:\n",
        "            num_dict[num] += 1\n",
        "\n",
        "    return num_dict\n",
        "\n",
        "\n",
        "def print_counts(num_dict):\n",
        "    \"\"\"\n",
        "    Loop over the dictionary and print out each key and its value.\n",
        "    \"\"\"\n",
        "    for num in num_dict:\n",
        "        print(str(num) + \" appears \" + str(num_dict[num]) + \" times.\")\n",
        "\n",
        "\n",
        "def main():\n",
        "    \"\"\"\n",
        "    Ask the user to input numbers and store them in a list. Once they enter a blank line,\n",
        "    print out the number of times each number appeared in the list.\n",
        "    \"\"\"\n",
        "    user_numbers = get_user_numbers()\n",
        "    num_dict = count_nums(user_numbers)\n",
        "    print_counts(num_dict)\n",
        "\n",
        "\n",
        "4\n",
        "if __name__ == '__main__':\n",
        "    main()"
      ]
    },
    {
      "cell_type": "code",
      "source": [
        "def main():\n",
        "\n",
        "    phonebook = {}\n",
        "\n",
        "    phonebook[\"Alice\"] = \"555-1234\"\n",
        "    phonebook[\"Bob\"] = \"555-5678\"\n",
        "    phonebook[\"Charlie\"] = \"555-9012\"\n",
        "\n",
        "    def display_contacts():\n",
        "        print(\"\\nPhonebook Contacts:\")\n",
        "        for name, number in phonebook.items():\n",
        "            print(f\"{name}: {number}\")\n",
        "\n",
        "    def add_contact():\n",
        "        name = input(\"Enter contact name: \")\n",
        "        number = input(\"Enter phone number: \")\n",
        "        phonebook[name] = number\n",
        "        print(f\"{name} added to phonebook!\")\n",
        "\n",
        "\n",
        "    def lookup_contact():\n",
        "        name = input(\"Enter name to lookup: \")\n",
        "        if name in phonebook:\n",
        "            print(f\"{name}'s number: {phonebook[name]}\")\n",
        "        else:\n",
        "            print(f\"{name} not found in phonebook.\")\n",
        "\n",
        "\n",
        "    def remove_contact():\n",
        "        name = input(\"Enter name to remove: \")\n",
        "        if name in phonebook:\n",
        "            del phonebook[name]\n",
        "            print(f\"{name} removed from phonebook.\")\n",
        "        else:\n",
        "            print(f\"{name} not found in phonebook.\")\n",
        "\n",
        "\n",
        "    while True:\n",
        "        print(\"\\nPhonebook Menu:\")\n",
        "        print(\"1. Display all contacts\")\n",
        "        print(\"2. Add a new contact\")\n",
        "        print(\"3. Lookup a contact\")\n",
        "        print(\"4. Remove a contact\")\n",
        "        print(\"5. Exit\")\n",
        "\n",
        "        choice = input(\"Enter your choice (1-5): \")\n",
        "\n",
        "        if choice == \"1\":\n",
        "            display_contacts()\n",
        "        elif choice == \"2\":\n",
        "            add_contact()\n",
        "        elif choice == \"3\":\n",
        "            lookup_contact()\n",
        "        elif choice == \"4\":\n",
        "            remove_contact()\n",
        "        elif choice == \"5\":\n",
        "            print(\"Goodbye!\")\n",
        "            break\n",
        "        else:\n",
        "            print(\"Invalid choice. Please try again.\")\n",
        "\n",
        "if __name__ == '__main__':\n",
        "    main()"
      ],
      "metadata": {
        "colab": {
          "base_uri": "https://localhost:8080/"
        },
        "id": "bKRJgAcg5R2u",
        "outputId": "d5752830-0bb9-4521-80b9-a5295678c5b3"
      },
      "execution_count": null,
      "outputs": [
        {
          "output_type": "stream",
          "name": "stdout",
          "text": [
            "\n",
            "Phonebook Menu:\n",
            "1. Display all contacts\n",
            "2. Add a new contact\n",
            "3. Lookup a contact\n",
            "4. Remove a contact\n",
            "5. Exit\n",
            "Enter your choice (1-5): 1\n",
            "\n",
            "Phonebook Contacts:\n",
            "Alice: 555-1234\n",
            "Bob: 555-5678\n",
            "Charlie: 555-9012\n",
            "\n",
            "Phonebook Menu:\n",
            "1. Display all contacts\n",
            "2. Add a new contact\n",
            "3. Lookup a contact\n",
            "4. Remove a contact\n",
            "5. Exit\n",
            "Enter your choice (1-5): 5\n",
            "Goodbye!\n"
          ]
        }
      ]
    },
    {
      "cell_type": "code",
      "source": [
        "def main():\n",
        "\n",
        "    fruit_prices = {\n",
        "        'apple': 2.5,\n",
        "        'durian': 15.0,\n",
        "        'jackfruit': 10.0,\n",
        "        'kiwi': 1.75,\n",
        "        'rambutan': 3.5,\n",
        "        'mango': 4.0\n",
        "    }\n",
        "\n",
        "    total_cost = 0.0\n",
        "\n",
        "    print(\"Welcome to the Fruit Shop Calculator!\")\n",
        "    print(\"Available fruits:\", \", \".join(fruit_prices.keys()))\n",
        "    print()\n",
        "\n",
        "\n",
        "    for fruit, price in fruit_prices.items():\n",
        "        while True:\n",
        "            try:\n",
        "                quantity = int(input(f\"How many ({fruit}) do you want?: \"))\n",
        "                if quantity >= 0:\n",
        "                    total_cost += quantity * price\n",
        "                    break\n",
        "                else:\n",
        "                    print(\"Please enter a non-negative number.\")\n",
        "            except ValueError:\n",
        "                print(\"Please enter a valid number.\")\n",
        "\n",
        "\n",
        "    print(f\"\\nYour total is ${total_cost:.2f}\")\n",
        "\n",
        "if __name__ == '__main__':\n",
        "    main()"
      ],
      "metadata": {
        "colab": {
          "base_uri": "https://localhost:8080/"
        },
        "id": "HXPZnT7658os",
        "outputId": "7bf8e132-e9ef-418f-d36a-b16836192f9b"
      },
      "execution_count": null,
      "outputs": [
        {
          "output_type": "stream",
          "name": "stdout",
          "text": [
            "Welcome to the Fruit Shop Calculator!\n",
            "Available fruits: apple, durian, jackfruit, kiwi, rambutan, mango\n",
            "\n",
            "How many (apple) do you want?: 5\n",
            "How many (durian) do you want?: 3\n",
            "How many (jackfruit) do you want?: 4\n",
            "How many (kiwi) do you want?: 6\n",
            "How many (rambutan) do you want?: 2\n",
            "How many (mango) do you want?: 8\n",
            "\n",
            "Your total is $147.00\n"
          ]
        }
      ]
    },
    {
      "cell_type": "code",
      "source": [
        "from hashlib import sha256\n",
        "\n",
        "def login(email, stored_logins, password_to_check):\n",
        "    \"\"\"\n",
        "    Returns True if the hash of the password we are checking matches the one in stored_logins\n",
        "    for a specific email. Otherwise, returns False.\n",
        "\n",
        "    email: the email we are checking the password for\n",
        "    stored_logins: a dictionary pointing from an email to its hashed password\n",
        "    password_to_check: a password we want to test alongside the email to login with\n",
        "    \"\"\"\n",
        "\n",
        "    if stored_logins[email] == hash_password(password_to_check):\n",
        "        return True\n",
        "\n",
        "    return False\n",
        "\n",
        "\n",
        "def hash_password(password):\n",
        "    \"\"\"\n",
        "    Takes in a password and returns the SHA256 hashed value for that specific password.\n",
        "\n",
        "    Inputs:\n",
        "        password: the password we want\n",
        "\n",
        "    Outputs:\n",
        "        the hashed form of the input password\n",
        "    \"\"\"\n",
        "\n",
        "    return sha256(password.encode()).hexdigest()\n",
        "\n",
        "def main():\n",
        "\n",
        "    stored_logins = {\n",
        "        \"example@gmail.com\": \"5e884898da28047151d0e56f8dc6292773603d0d6aabbdd62a11ef721d1542d8\",\n",
        "        \"code_in_placer@cip.org\": \"973607a4ae7b4cf7d96a100b0fb07e8519cc4f70441d41214a9f811577bb06cc\",\n",
        "        \"student@stanford.edu\": \"882c6df720fd99f5eebb1581a1cf975625cea8a160283011c0b9512bb56c95fb\"\n",
        "    }\n",
        "\n",
        "    print(login(\"example@gmail.com\", stored_logins, \"word\"))\n",
        "    print(login(\"example@gmail.com\", stored_logins, \"password\"))\n",
        "\n",
        "    print(login(\"code_in_placer@cip.org\", stored_logins, \"Karel\"))\n",
        "    print(login(\"code_in_placer@cip.org\", stored_logins, \"karel\"))\n",
        "\n",
        "    print(login(\"student@stanford.edu\", stored_logins, \"password\"))\n",
        "    print(login(\"student@stanford.edu\", stored_logins, \"123!456?789\"))\n",
        "\n",
        "\n",
        "if __name__ == '__main__':\n",
        "    main()"
      ],
      "metadata": {
        "colab": {
          "base_uri": "https://localhost:8080/"
        },
        "id": "EBmvyalz60Ov",
        "outputId": "c693b18d-7df3-42a9-9586-bd6bcbc95082"
      },
      "execution_count": null,
      "outputs": [
        {
          "output_type": "stream",
          "name": "stdout",
          "text": [
            "False\n",
            "True\n",
            "False\n",
            "True\n",
            "False\n",
            "True\n"
          ]
        }
      ]
    }
  ]
}