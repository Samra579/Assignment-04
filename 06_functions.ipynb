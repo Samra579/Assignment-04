{
  "nbformat": 4,
  "nbformat_minor": 0,
  "metadata": {
    "colab": {
      "provenance": [],
      "authorship_tag": "ABX9TyO2sMxWmwUmFG2TH6mg26ly",
      "include_colab_link": true
    },
    "kernelspec": {
      "name": "python3",
      "display_name": "Python 3"
    },
    "language_info": {
      "name": "python"
    }
  },
  "cells": [
    {
      "cell_type": "markdown",
      "metadata": {
        "id": "view-in-github",
        "colab_type": "text"
      },
      "source": [
        "<a href=\"https://colab.research.google.com/github/Samra579/Assignment-04/blob/main/06_functions.ipynb\" target=\"_parent\"><img src=\"https://colab.research.google.com/assets/colab-badge.svg\" alt=\"Open In Colab\"/></a>"
      ]
    },
    {
      "cell_type": "code",
      "execution_count": null,
      "metadata": {
        "colab": {
          "base_uri": "https://localhost:8080/"
        },
        "id": "TKzQGb4qABFv",
        "outputId": "9f1c0bf5-e5bc-459e-de71-751a3e462f62"
      },
      "outputs": [
        {
          "output_type": "stream",
          "name": "stdout",
          "text": [
            "avg_1 5.0\n",
            "avg_2 9.0\n",
            "final 7.0\n"
          ]
        }
      ],
      "source": [
        "def average(a: float, b: float):\n",
        "    \"\"\"\n",
        "    Returns the number which is half way between a and b\n",
        "    \"\"\"\n",
        "    sum = a + b\n",
        "    return sum / 2\n",
        "\n",
        "def main():\n",
        "    avg_1 = average(0, 10)\n",
        "    avg_2 = average(8, 10)\n",
        "\n",
        "    final = average(avg_1, avg_2)\n",
        "    print(\"avg_1\", avg_1)\n",
        "    print(\"avg_2\", avg_2)\n",
        "    print(\"final\", final)\n",
        "\n",
        "\n",
        "if __name__ == '__main__':\n",
        "    main()"
      ]
    },
    {
      "cell_type": "code",
      "source": [
        "import random\n",
        "\n",
        "\n",
        "DONE_LIKELIHOOD = 0.2\n",
        "\n",
        "def done():\n",
        "    \"\"\"Returns True with probability DONE_LIKELIHOOD\"\"\"\n",
        "    return random.random() < DONE_LIKELIHOOD\n",
        "\n",
        "def chaotic_counting():\n",
        "    \"\"\"Counts from 1 to 10, but may stop early if done() returns True\"\"\"\n",
        "    print(\"I'm going to count until 10 or until I feel like stopping, whichever comes first.\", end=' ')\n",
        "\n",
        "    for i in range(1, 11):\n",
        "        if done():\n",
        "            return\n",
        "        print(i, end=' ')\n",
        "\n",
        "\n",
        "    return\n",
        "\n",
        "def main():\n",
        "    chaotic_counting()\n",
        "    print(\"\\nI'm done.\")\n",
        "\n",
        "if __name__ == '__main__':\n",
        "    main()"
      ],
      "metadata": {
        "colab": {
          "base_uri": "https://localhost:8080/"
        },
        "id": "ex3w2rbfAubv",
        "outputId": "48d78f4e-be84-40de-a58f-5a79bc779c14"
      },
      "execution_count": null,
      "outputs": [
        {
          "output_type": "stream",
          "name": "stdout",
          "text": [
            "I'm going to count until 10 or until I feel like stopping, whichever comes first. 1 2 3 4 5 \n",
            "I'm done.\n"
          ]
        }
      ]
    },
    {
      "cell_type": "code",
      "source": [
        "\n",
        "def count_even(lst):\n",
        "    \"\"\"\n",
        "    Returns number of even numbers in list.\n",
        "    >>> count_even([1,2,3,4])\n",
        "    2\n",
        "    >>> count_even([1,3,5,7])\n",
        "    0\n",
        "    \"\"\"\n",
        "    count = 0\n",
        "    for num in lst:\n",
        "        if num % 2 == 0:\n",
        "            count += 1\n",
        "\n",
        "\n",
        "\n",
        "    print(count)\n",
        "\n",
        "def get_list_of_ints():\n",
        "    \"\"\"\n",
        "    Reads in integers until the user presses enter and returns the resulting list.\n",
        "    \"\"\"\n",
        "    lst = []\n",
        "    user_input = input(\"Enter an integer or press enter to stop: \")\n",
        "    while user_input != \"\":\n",
        "        lst.append(int(user_input))\n",
        "        user_input = input(\"Enter an integer or press enter to stop: \")\n",
        "\n",
        "    return lst\n",
        "\n",
        "def main():\n",
        "    lst = get_list_of_ints()\n",
        "    count_even(lst)\n",
        "\n",
        "\n",
        "# There is no need to edit code beyond this point\n",
        "\n",
        "if __name__ == '__main__':\n",
        "    main()"
      ],
      "metadata": {
        "colab": {
          "base_uri": "https://localhost:8080/"
        },
        "id": "MxFum-Z_A1pB",
        "outputId": "09d6c277-2e5f-448a-b4af-2c63eb4e07b1"
      },
      "execution_count": null,
      "outputs": [
        {
          "output_type": "stream",
          "name": "stdout",
          "text": [
            "Enter an integer or press enter to stop: 3\n",
            "Enter an integer or press enter to stop: \n",
            "0\n"
          ]
        }
      ]
    },
    {
      "cell_type": "code",
      "source": [
        "def double(num: int):\n",
        "    return num * 2\n",
        "\n",
        "\n",
        "def main():\n",
        "    num = int(input(\"Enter a number: \"))\n",
        "    num_times_2 = double(num)\n",
        "    print(\"Double that is\", num_times_2)\n",
        "\n",
        "if __name__ == '__main__':\n",
        "    main()"
      ],
      "metadata": {
        "colab": {
          "base_uri": "https://localhost:8080/"
        },
        "id": "5DP-krXxBNip",
        "outputId": "6ad78c63-3667-4606-b900-7dc2cdb67616"
      },
      "execution_count": null,
      "outputs": [
        {
          "output_type": "stream",
          "name": "stdout",
          "text": [
            "Enter a number: 3\n",
            "Double that is 6\n"
          ]
        }
      ]
    },
    {
      "cell_type": "code",
      "source": [
        "def get_name():\n",
        "    return \"Sophia\"\n",
        "\n",
        "\n",
        "\n",
        "def main():\n",
        "    name = get_name()\n",
        "    print(\"Howdy\", name, \"! 🤠\")\n",
        "\n",
        "if __name__ == '__main__':\n",
        "    main()"
      ],
      "metadata": {
        "colab": {
          "base_uri": "https://localhost:8080/"
        },
        "id": "gMVdJwkDBXWO",
        "outputId": "c27e80e8-cfc1-4b1d-e76c-c75f6dd1371d"
      },
      "execution_count": null,
      "outputs": [
        {
          "output_type": "stream",
          "name": "stdout",
          "text": [
            "Howdy Sophia ! 🤠\n"
          ]
        }
      ]
    },
    {
      "cell_type": "code",
      "source": [
        "def main():\n",
        "    for i in range(10):\n",
        "        if is_odd(i):\n",
        "            print('odd')\n",
        "        else:\n",
        "            print('even')\n",
        "\n",
        "def is_odd(value: int):\n",
        "    \"\"\"\n",
        "    Checks to see if a value is odd. If it is, returns true.\n",
        "    \"\"\"\n",
        "\n",
        "    remainder = value % 2\n",
        "    return remainder == 1\n",
        "\n",
        "\n",
        "\n",
        "if __name__ == '__main__':\n",
        "    main()"
      ],
      "metadata": {
        "colab": {
          "base_uri": "https://localhost:8080/"
        },
        "id": "9ymMf0eABgQ_",
        "outputId": "162fb805-83ef-4ab7-b648-30dd5ddcc325"
      },
      "execution_count": null,
      "outputs": [
        {
          "output_type": "stream",
          "name": "stdout",
          "text": [
            "even\n",
            "odd\n",
            "even\n",
            "odd\n",
            "even\n",
            "odd\n",
            "even\n",
            "odd\n",
            "even\n",
            "odd\n"
          ]
        }
      ]
    },
    {
      "cell_type": "code",
      "source": [
        "def print_divisors(num: int):\n",
        "    print(\"Here are the divisors of\", num)\n",
        "    for i in range(num):\n",
        "        curr_divisor = i + 1\n",
        "        if num % curr_divisor == 0:\n",
        "            print(curr_divisor)\n",
        "\n",
        "def main():\n",
        "    num = int(input(\"Enter a number: \"))\n",
        "    print_divisors(num)\n",
        "\n",
        "\n",
        "\n",
        "\n",
        "if __name__ == '__main__':\n",
        "    main()"
      ],
      "metadata": {
        "colab": {
          "base_uri": "https://localhost:8080/"
        },
        "id": "tY3docDSBw4H",
        "outputId": "1cbd2e95-073a-491c-f2a9-a38739ff4ecb"
      },
      "execution_count": null,
      "outputs": [
        {
          "output_type": "stream",
          "name": "stdout",
          "text": [
            "Enter a number: 4\n",
            "Here are the divisors of 4\n",
            "1\n",
            "2\n",
            "4\n"
          ]
        }
      ]
    },
    {
      "cell_type": "code",
      "source": [
        "def make_sentence(word, part_of_speech):\n",
        "    if part_of_speech == 0:\n",
        "\n",
        "        print(\"I am excited to add this \" + word + \" to my vast collection of them!\")\n",
        "    elif part_of_speech == 1:\n",
        "\n",
        "        print(\"It's so nice outside today it makes me want to \" + word + \"!\")\n",
        "    elif part_of_speech == 2:\n",
        "\n",
        "        print(\"Looking out my window, the sky is big and \" + word + \"!\")\n",
        "    else:\n",
        "\n",
        "        print(\"Part of speech must be 0, 1, or 2! Can't make a sentence.\")\n",
        "\n",
        "\n",
        "\n",
        "def main():\n",
        "    word :  str = input(\"Please type a noun, verb, or adjective: \")\n",
        "    print(\"Is this a noun, verb, or adjective?\")\n",
        "    part_of_speech = int(input(\"Type 0 for noun, 1 for verb, 2 for adjective: \"))\n",
        "    make_sentence(word, part_of_speech)\n",
        "\n",
        "if __name__ == '__main__':\n",
        "    main()\n"
      ],
      "metadata": {
        "colab": {
          "base_uri": "https://localhost:8080/"
        },
        "id": "GtT9JxUQCulC",
        "outputId": "b06d3794-df1c-4896-bbff-2a3a2fbc81c4"
      },
      "execution_count": null,
      "outputs": [
        {
          "output_type": "stream",
          "name": "stdout",
          "text": [
            "Please type a noun, verb, or adjective: ahmed\n",
            "Is this a noun, verb, or adjective?\n",
            "Type 0 for noun, 1 for verb, 2 for adjective: 1\n",
            "It's so nice outside today it makes me want to ahmed!\n"
          ]
        }
      ]
    },
    {
      "cell_type": "code",
      "source": [
        "def print_multiple(message, repeats):\n",
        "    \"\"\"Prints the message the specified number of times\"\"\"\n",
        "    for _ in range(repeats):\n",
        "        print(message, end=' ')\n",
        "    print()\n",
        "\n",
        "def main():\n",
        "\n",
        "    message = input(\"Please type a message: \")\n",
        "\n",
        "\n",
        "    while True:\n",
        "        try:\n",
        "            repeats = int(input(\"Enter a number of times to repeat your message: \"))\n",
        "            if repeats >= 0:\n",
        "                break\n",
        "            else:\n",
        "                print(\"Please enter a non-negative number.\")\n",
        "        except ValueError:\n",
        "            print(\"Please enter a valid integer.\")\n",
        "\n",
        "\n",
        "    print_multiple(message, repeats)\n",
        "\n",
        "if __name__ == '__main__':\n",
        "    main()"
      ],
      "metadata": {
        "colab": {
          "base_uri": "https://localhost:8080/"
        },
        "id": "dS3gR54pB4XY",
        "outputId": "1f7a666c-5624-45df-9ed1-0d20efbddac3"
      },
      "execution_count": null,
      "outputs": [
        {
          "output_type": "stream",
          "name": "stdout",
          "text": [
            "Please type a message: how are you\n",
            "Enter a number of times to repeat your message: 2\n",
            "how are you how are you \n"
          ]
        }
      ]
    },
    {
      "cell_type": "code",
      "source": [
        "def print_ones_digit(num):\n",
        "    \"\"\"Prints the ones digit of an integer\"\"\"\n",
        "    ones_digit = num % 10\n",
        "    print(f\"The ones digit is {ones_digit}\")\n",
        "\n",
        "def main():\n",
        "\n",
        "    while True:\n",
        "        try:\n",
        "            number = int(input(\"Enter a number: \"))\n",
        "            break\n",
        "        except ValueError:\n",
        "            print(\"Please enter a valid integer.\")\n",
        "\n",
        "\n",
        "    print_ones_digit(number)\n",
        "\n",
        "if __name__ == '__main__':\n",
        "    main()"
      ],
      "metadata": {
        "colab": {
          "base_uri": "https://localhost:8080/"
        },
        "id": "YxmFDApfDLNs",
        "outputId": "b844c048-5520-4365-b665-f5f56f2c4503"
      },
      "execution_count": null,
      "outputs": [
        {
          "output_type": "stream",
          "name": "stdout",
          "text": [
            "Enter a number: 4\n",
            "The ones digit is 4\n"
          ]
        }
      ]
    }
  ]
}