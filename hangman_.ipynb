{
  "nbformat": 4,
  "nbformat_minor": 0,
  "metadata": {
    "colab": {
      "provenance": [],
      "authorship_tag": "ABX9TyNO9lYsuBp2si0KAyaMM+i5",
      "include_colab_link": true
    },
    "kernelspec": {
      "name": "python3",
      "display_name": "Python 3"
    },
    "language_info": {
      "name": "python"
    }
  },
  "cells": [
    {
      "cell_type": "markdown",
      "metadata": {
        "id": "view-in-github",
        "colab_type": "text"
      },
      "source": [
        "<a href=\"https://colab.research.google.com/github/Samra579/Assignment-04/blob/main/hangman_.ipynb\" target=\"_parent\"><img src=\"https://colab.research.google.com/assets/colab-badge.svg\" alt=\"Open In Colab\"/></a>"
      ]
    },
    {
      "cell_type": "code",
      "execution_count": null,
      "metadata": {
        "colab": {
          "base_uri": "https://localhost:8080/"
        },
        "id": "vYhzxt8UZKXG",
        "outputId": "0adbf4b0-70a3-4dd3-e45d-996ac07041e7"
      },
      "outputs": [
        {
          "output_type": "stream",
          "name": "stdout",
          "text": [
            "Welcome to Hangman!\n",
            "\n",
            "You have 6 lives left. Used letters: \n",
            "Current word:  _ _ _ _ _ _ _ _ _\n",
            "Guess a letter: 6\n",
            "❗Invalid character. Please enter a letter.\n",
            "\n",
            "You have 6 lives left. Used letters: \n",
            "Current word:  _ _ _ _ _ _ _ _ _\n",
            "Guess a letter: a\n",
            "✅ Good guess!\n",
            "\n",
            "You have 6 lives left. Used letters: A\n",
            "Current word:  _ _ A _ _ _ _ _ _\n",
            "Guess a letter: w\n",
            "❌ Letter not in word.\n",
            "\n",
            "You have 5 lives left. Used letters: A W\n",
            "Current word:  _ _ A _ _ _ _ _ _\n",
            "Guess a letter: c\n",
            "✅ Good guess!\n",
            "\n",
            "You have 5 lives left. Used letters: C A W\n",
            "Current word:  C _ A _ _ _ _ _ _\n",
            "Guess a letter: 7\n",
            "❗Invalid character. Please enter a letter.\n",
            "\n",
            "You have 5 lives left. Used letters: C A W\n",
            "Current word:  C _ A _ _ _ _ _ _\n",
            "Guess a letter: s\n",
            "❌ Letter not in word.\n",
            "\n",
            "You have 4 lives left. Used letters: C A S W\n",
            "Current word:  C _ A _ _ _ _ _ _\n",
            "Guess a letter: b\n",
            "❌ Letter not in word.\n",
            "\n",
            "You have 3 lives left. Used letters: W C B S A\n",
            "Current word:  C _ A _ _ _ _ _ _\n"
          ]
        }
      ],
      "source": [
        "import random\n",
        "import string\n",
        "\n",
        "# List of words\n",
        "word_list = ['python', 'hangman', 'challenge', 'programming', 'code']\n",
        "\n",
        "# Function to get a valid word\n",
        "def get_valid_word(word_list):\n",
        "    word = random.choice(word_list)\n",
        "    while '-' in word or ' ' in word:\n",
        "        word = random.choice(word_list)\n",
        "    return word.upper()\n",
        "\n",
        "def hangman():\n",
        "    word = get_valid_word(word_list)\n",
        "    word_letters = set(word)  # Letters in the word\n",
        "    alphabet = set(string.ascii_uppercase)\n",
        "    used_letters = set()  # Letters user has guessed\n",
        "\n",
        "    lives = 6\n",
        "\n",
        "    print(\"Welcome to Hangman!\")\n",
        "\n",
        "    while len(word_letters) > 0 and lives > 0:\n",
        "        # Show letters used and remaining lives\n",
        "        print(f\"\\nYou have {lives} lives left. Used letters: {' '.join(used_letters)}\")\n",
        "\n",
        "        # Show current guessed word (e.g. H _ N G _ _ N)\n",
        "        word_display = [letter if letter in used_letters else '_' for letter in word]\n",
        "        print(\"Current word: \", ' '.join(word_display))\n",
        "\n",
        "        # Get user input\n",
        "        user_letter = input(\"Guess a letter: \").upper()\n",
        "\n",
        "        if user_letter in alphabet - used_letters:\n",
        "            used_letters.add(user_letter)\n",
        "            if user_letter in word_letters:\n",
        "                word_letters.remove(user_letter)\n",
        "                print(\"✅ Good guess!\")\n",
        "            else:\n",
        "                lives -= 1\n",
        "                print(\"❌ Letter not in word.\")\n",
        "        elif user_letter in used_letters:\n",
        "            print(\"⚠️ You already used that letter.\")\n",
        "        else:\n",
        "            print(\"❗Invalid character. Please enter a letter.\")\n",
        "\n",
        "    # Game ends\n",
        "    if lives == 0:\n",
        "        print(f\"\\nYou died! The word was {word}\")\n",
        "    else:\n",
        "        print(f\"\\n🎉 You guessed the word: {word}!\")\n",
        "\n",
        "# Run the game\n",
        "if __name__ == \"__main__\":\n",
        "    hangman()\n"
      ]
    }
  ]
}