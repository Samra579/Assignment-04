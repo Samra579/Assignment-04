{
  "nbformat": 4,
  "nbformat_minor": 0,
  "metadata": {
    "colab": {
      "provenance": [],
      "authorship_tag": "ABX9TyOQISJHTwTLLbBguT4LFYkO",
      "include_colab_link": true
    },
    "kernelspec": {
      "name": "python3",
      "display_name": "Python 3"
    },
    "language_info": {
      "name": "python"
    }
  },
  "cells": [
    {
      "cell_type": "markdown",
      "metadata": {
        "id": "view-in-github",
        "colab_type": "text"
      },
      "source": [
        "<a href=\"https://colab.research.google.com/github/Samra579/Assignment-04/blob/main/bmi_calculator.ipynb\" target=\"_parent\"><img src=\"https://colab.research.google.com/assets/colab-badge.svg\" alt=\"Open In Colab\"/></a>"
      ]
    },
    {
      "cell_type": "code",
      "execution_count": null,
      "metadata": {
        "colab": {
          "base_uri": "https://localhost:8080/"
        },
        "collapsed": true,
        "id": "IHV_Y8zvR3mA",
        "outputId": "df74db53-8d77-4e1f-9cf4-fee56fc74bf6"
      },
      "outputs": [
        {
          "output_type": "stream",
          "name": "stdout",
          "text": [
            " * Serving Flask app '__main__'\n",
            " * Debug mode: on\n"
          ]
        },
        {
          "output_type": "stream",
          "name": "stderr",
          "text": [
            "INFO:werkzeug:\u001b[31m\u001b[1mWARNING: This is a development server. Do not use it in a production deployment. Use a production WSGI server instead.\u001b[0m\n",
            " * Running on http://127.0.0.1:5000\n",
            "INFO:werkzeug:\u001b[33mPress CTRL+C to quit\u001b[0m\n",
            "INFO:werkzeug: * Restarting with stat\n"
          ]
        }
      ],
      "source": [
        "from flask import Flask, render_template, request\n",
        "\n",
        "app = Flask(__name__)\n",
        "\n",
        "@app.route('/', methods=['GET', 'POST'])\n",
        "def bmi_calculator():\n",
        "    bmi = None\n",
        "    category = \"\"\n",
        "    if request.method == 'POST':\n",
        "        try:\n",
        "            weight = float(request.form['weight'])\n",
        "            height = float(request.form['height']) / 100  # cm to meters\n",
        "            bmi = round(weight / (height ** 2), 2)\n",
        "\n",
        "            if bmi < 18.5:\n",
        "                category = \"Underweight\"\n",
        "            elif 18.5 <= bmi < 24.9:\n",
        "                category = \"Normal weight\"\n",
        "            elif 25 <= bmi < 29.9:\n",
        "                category = \"Overweight\"\n",
        "            else:\n",
        "                category = \"Obese\"\n",
        "        except:\n",
        "            bmi = \"Invalid input\"\n",
        "    return render_template('index.html', bmi=bmi, category=category)\n",
        "\n",
        "if __name__ == '__main__':\n",
        "    app.run(debug=True)\n"
      ]
    }
  ]
}