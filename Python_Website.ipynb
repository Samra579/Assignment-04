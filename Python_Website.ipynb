{
  "nbformat": 4,
  "nbformat_minor": 0,
  "metadata": {
    "colab": {
      "provenance": [],
      "authorship_tag": "ABX9TyMhXyFs2ZMknY9k973C5znb",
      "include_colab_link": true
    },
    "kernelspec": {
      "name": "python3",
      "display_name": "Python 3"
    },
    "language_info": {
      "name": "python"
    }
  },
  "cells": [
    {
      "cell_type": "markdown",
      "metadata": {
        "id": "view-in-github",
        "colab_type": "text"
      },
      "source": [
        "<a href=\"https://colab.research.google.com/github/Samra579/Assignment-04/blob/main/Python_Website.ipynb\" target=\"_parent\"><img src=\"https://colab.research.google.com/assets/colab-badge.svg\" alt=\"Open In Colab\"/></a>"
      ]
    },
    {
      "cell_type": "code",
      "source": [
        "import streamlit as st\n",
        "\n",
        "# Set the page configuration\n",
        "st.set_page_config(page_title=\"Samra's Website\", page_icon=\"🌐\", layout=\"centered\")\n",
        "\n",
        "# Main Title\n",
        "st.title(\"👩‍💻 Welcome to Samra's Website\")\n",
        "\n",
        "# Subtitle\n",
        "st.subheader(\"I'm learning Python and building cool stuff with Streamlit!\")\n",
        "\n",
        "# Add an image (you can use a local file or URL)\n",
        "st.image(\"https://via.placeholder.com/600x300.png?text=Welcome+to+My+Website\", caption=\"This is my awesome Streamlit site!\", use_column_width=True)\n",
        "\n",
        "# About section\n",
        "st.markdown(\"### ✨ About Me\")\n",
        "st.write(\"\"\"\n",
        "Hi! I'm **Samra**, a beginner Python programmer on my way to becoming a developer.\n",
        "This is my first Streamlit web app and I'm super excited to share my journey with you!\n",
        "\"\"\")\n",
        "\n",
        "# Project section\n",
        "st.markdown(\"### 🛠️ My Projects\")\n",
        "projects = {\n",
        "    \"BMI Calculator\": \"A simple BMI calculator using Python.\",\n",
        "    \"Hangman Game\": \"A Python console game using random and string modules.\",\n",
        "    \"More coming soon...\": \"Stay tuned!\"\n",
        "}\n",
        "\n",
        "for name, desc in projects.items():\n",
        "    st.write(f\"**{name}** – {desc}\")\n",
        "\n",
        "# Contact section\n",
        "st.markdown(\"### 📬 Contact Me\")\n",
        "name = st.text_input(\"Your Name\")\n",
        "message = st.text_area(\"Your Message\")\n",
        "\n",
        "if st.button(\"Send\"):\n",
        "    if name and message:\n",
        "        st.success(f\"Thanks {name}! Your message has been received. 😊\")\n",
        "    else:\n",
        "        st.warning(\"Please fill in both name and message!\")\n",
        "\n",
        "# Footer\n",
        "st.markdown(\"---\")\n",
        "st.caption(\"Built with ❤️ using Streamlit by Samra\")\n"
      ],
      "metadata": {
        "id": "CkgN5-verUAU"
      },
      "execution_count": null,
      "outputs": []
    }
  ]
}