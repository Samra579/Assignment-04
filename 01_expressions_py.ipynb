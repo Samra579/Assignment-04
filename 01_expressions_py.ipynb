{
  "nbformat": 4,
  "nbformat_minor": 0,
  "metadata": {
    "colab": {
      "provenance": [],
      "authorship_tag": "ABX9TyM5vqREbuYDe4H1pbeeeEHn",
      "include_colab_link": true
    },
    "kernelspec": {
      "name": "python3",
      "display_name": "Python 3"
    },
    "language_info": {
      "name": "python"
    }
  },
  "cells": [
    {
      "cell_type": "markdown",
      "metadata": {
        "id": "view-in-github",
        "colab_type": "text"
      },
      "source": [
        "<a href=\"https://colab.research.google.com/github/Samra579/Assignment-04/blob/main/01_expressions_py.ipynb\" target=\"_parent\"><img src=\"https://colab.research.google.com/assets/colab-badge.svg\" alt=\"Open In Colab\"/></a>"
      ]
    },
    {
      "cell_type": "code",
      "execution_count": 1,
      "metadata": {
        "colab": {
          "base_uri": "https://localhost:8080/"
        },
        "id": "GUm7wttri3mf",
        "outputId": "c5879531-219f-40cb-8f5d-28bb7d9badd0"
      },
      "outputs": [
        {
          "output_type": "stream",
          "name": "stdout",
          "text": [
            "die1 in main() starts as: 10\n",
            "Total of two dice: 8\n",
            "Total of two dice: 9\n",
            "Total of two dice: 7\n",
            "die1 in main() is: 10\n"
          ]
        }
      ],
      "source": [
        "\"\"\"\n",
        "Program: dicesimulator\n",
        "----------------------\n",
        "Simulate rolling two dice, three times.  Prints\n",
        "the results of each die roll.  This program is used\n",
        "to show how variable scope works.\n",
        "\"\"\"\n",
        "\n",
        "# Import the random library which lets us simulate random things like dice!\n",
        "import random\n",
        "\n",
        "# Number of sides on each die to roll\n",
        "NUM_SIDES = 6\n",
        "\n",
        "def roll_dice():\n",
        "    \"\"\"\n",
        "    Simulates rolling two dice and prints their total\n",
        "    \"\"\"\n",
        "    die1: int = random.randint(1, NUM_SIDES)\n",
        "    die2: int = random.randint(1, NUM_SIDES)\n",
        "    total: int = die1 + die2\n",
        "    print(\"Total of two dice:\", total)\n",
        "\n",
        "def main():\n",
        "    die1: int = 10\n",
        "    print(\"die1 in main() starts as: \" + str(die1))\n",
        "    roll_dice()\n",
        "    roll_dice()\n",
        "    roll_dice()\n",
        "    print(\"die1 in main() is: \" + str(die1))\n",
        "\n",
        "# This provided line is required at the end of a Python file\n",
        "# to call the main() function.\n",
        "if __name__ == '__main__':\n",
        "    main()"
      ]
    },
    {
      "cell_type": "code",
      "source": [
        "C: int = 299792458  # The speed of light in m/s\n",
        "\n",
        "def main():\n",
        "    mass_in_kg: float = float(input(\"Enter kilos of mass: \"))\n",
        "\n",
        "    # Calculate energy\n",
        "    # equivalently energy = mass * (C ** 2)\n",
        "    # using the ** operator to raise C to the power of 2\n",
        "    energy_in_joules: float = mass_in_kg * (C ** 2)\n",
        "\n",
        "    # Display work to the user\n",
        "    print(\"e = m * C^2...\")\n",
        "    print(\"m = \" + str(mass_in_kg) + \" kg\")\n",
        "    print(\"C = \" + str(C) + \" m/s\")\n",
        "\n",
        "    print(str(energy_in_joules) + \" joules of energy!\")\n",
        "\n",
        "\n",
        "# There is no need to edit code beyond this point\n",
        "\n",
        "if __name__ == '__main__':\n",
        "    main()"
      ],
      "metadata": {
        "colab": {
          "base_uri": "https://localhost:8080/"
        },
        "id": "dcMbT27a-A3w",
        "outputId": "72af300c-6f55-4243-eb77-feb5224e92f8"
      },
      "execution_count": 3,
      "outputs": [
        {
          "output_type": "stream",
          "name": "stdout",
          "text": [
            "Enter kilos of mass: 20.5\n",
            "e = m * C^2...\n",
            "m = 20.5 kg\n",
            "C = 299792458 m/s\n",
            "1.842448116410476e+18 joules of energy!\n"
          ]
        }
      ]
    },
    {
      "cell_type": "code",
      "source": [
        "\"\"\"\n",
        "An example program with constants\n",
        "\"\"\"\n",
        "\n",
        "INCHES_IN_FOOT: int = 12  # Conversion factor. There are 12 inches for 1 foot.\n",
        "\n",
        "def main():\n",
        "    feet: float = float(input(\"Enter number of feet: \"))  # Get the number of feet, make sure to cast it to a float!\n",
        "    inches: float = feet * INCHES_IN_FOOT  # Perform the conversion\n",
        "    print(\"That is\", inches, \"inches!\")\n",
        "\n",
        "\n",
        "# This provided line is required at the end of a Python file\n",
        "# to call the main() function.\n",
        "if __name__ == '__main__':\n",
        "    main()\n",
        "\n"
      ],
      "metadata": {
        "colab": {
          "base_uri": "https://localhost:8080/"
        },
        "id": "dq4xy7zE_3rH",
        "outputId": "30398709-dd35-48d0-c2ce-d5c7748690f2"
      },
      "execution_count": 4,
      "outputs": [
        {
          "output_type": "stream",
          "name": "stdout",
          "text": [
            "Enter number of feet: 10.5\n",
            "That is 126.0 inches!\n"
          ]
        }
      ]
    },
    {
      "cell_type": "code",
      "source": [
        "import math  # Import the math library so we can use the sqrt function\n",
        "\n",
        "def main():\n",
        "    # Get the two side lengths from the user and cast them to be numbers\n",
        "    ab: float = float(input(\"Enter the length of AB: \"))\n",
        "    ac: float = float(input(\"Enter the length of AC: \"))\n",
        "\n",
        "    # Calculate the hypotenuse using the two sides and print it out\n",
        "    bc: float = math.sqrt(ab**2 + ac**2)\n",
        "    print(\"The length of BC (the hypotenuse) is: \" + str(bc))\n",
        "\n",
        "\n",
        "# There is no need to edit code beyond this point\n",
        "\n",
        "if __name__ == '__main__':\n",
        "    main()"
      ],
      "metadata": {
        "colab": {
          "base_uri": "https://localhost:8080/"
        },
        "id": "Y4hfa_kMArC4",
        "outputId": "c4c67cb7-389e-441a-d89f-103556aee78a"
      },
      "execution_count": 5,
      "outputs": [
        {
          "output_type": "stream",
          "name": "stdout",
          "text": [
            "Enter the length of AB: 20\n",
            "Enter the length of AC: 15.5\n",
            "The length of BC (the hypotenuse) is: 25.30316185775999\n"
          ]
        }
      ]
    },
    {
      "cell_type": "code",
      "source": [
        "def main():\n",
        "    # Get the numbers we want to divide\n",
        "    dividend: int = int(input(\"Please enter an integer to be divided: \"))\n",
        "    divisor: int = int(input(\"Please enter an integer to divide by: \"))\n",
        "\n",
        "    quotient: int = dividend // divisor  # Divide with no remainder/decimals (integer division)\n",
        "    remainder: int = dividend % divisor  # Get the remainder of the division (modulo)\n",
        "\n",
        "    print(\"The result of this division is \" + str(quotient) + \" with a remainder of \" + str(remainder))\n",
        "\n",
        "\n",
        "# There is no need to edit code beyond this point\n",
        "\n",
        "if __name__ == '__main__':\n",
        "    main()"
      ],
      "metadata": {
        "colab": {
          "base_uri": "https://localhost:8080/"
        },
        "id": "sDhOCiZOB4na",
        "outputId": "dfbd125c-73fa-4976-fb62-ffc0db92e196"
      },
      "execution_count": 6,
      "outputs": [
        {
          "output_type": "stream",
          "name": "stdout",
          "text": [
            "Please enter an integer to be divided: 20\n",
            "Please enter an integer to divide by: 2\n",
            "The result of this division is 10 with a remainder of 0\n"
          ]
        }
      ]
    },
    {
      "cell_type": "code",
      "source": [
        "\"\"\"\n",
        "Simulate rolling two dice, and prints results of each\n",
        "roll as well as the total.\n",
        "\"\"\"\n",
        "# Import the random library which lets us simulate random things like dice!\n",
        "import random\n",
        "\n",
        "# Number of sides on each die to roll\n",
        "NUM_SIDES: int = 6\n",
        "\n",
        "def main():\n",
        "    # Setting a seed is useful for debugging (uncomment the line below to do so!)\n",
        "    # random.seed(1)\n",
        "\n",
        "    # Roll die\n",
        "    die1: int = random.randint(1, NUM_SIDES)\n",
        "    die2: int = random.randint(1, NUM_SIDES)\n",
        "\n",
        "    # Get their total\n",
        "    total: int = die1 + die2\n",
        "\n",
        "    # Print out the results\n",
        "    print(\"Dice have\", NUM_SIDES, \"sides each.\")\n",
        "    print(\"First die:\", die1)\n",
        "    print(\"Second die:\", die2)\n",
        "    print(\"Total of two dice:\", total)\n",
        "\n",
        "\n",
        "# This provided line is required at the end of a Python file\n",
        "# to call the main() function.\n",
        "if __name__ == '__main__':\n",
        "    main()"
      ],
      "metadata": {
        "colab": {
          "base_uri": "https://localhost:8080/"
        },
        "id": "6WnEujPRChsb",
        "outputId": "7c13a5d6-e1c1-45e4-a0c6-7ac07e958d3d"
      },
      "execution_count": 9,
      "outputs": [
        {
          "output_type": "stream",
          "name": "stdout",
          "text": [
            "Dice have 6 sides each.\n",
            "First die: 2\n",
            "Second die: 6\n",
            "Total of two dice: 8\n"
          ]
        }
      ]
    },
    {
      "cell_type": "code",
      "source": [
        "# Useful constants to help make the math easier and cleaner!\n",
        "DAYS_PER_YEAR: int = 365\n",
        "HOURS_PER_DAY: int = 24\n",
        "MIN_PER_HOUR: int = 60\n",
        "SEC_PER_MIN: int = 60\n",
        "\n",
        "def main():\n",
        "    # We can get the number of seconds per year by multiplying the handy constants above!\n",
        "    print(\"There are \" + str(DAYS_PER_YEAR * HOURS_PER_DAY * MIN_PER_HOUR * SEC_PER_MIN) + \" seconds in a year!\")\n",
        "\n",
        "\n",
        "# There is no need to edit code beyond this point\n",
        "\n",
        "if __name__ == '__main__':\n",
        "    main()"
      ],
      "metadata": {
        "colab": {
          "base_uri": "https://localhost:8080/"
        },
        "id": "-6jdcnF_C0nw",
        "outputId": "f81a088f-53a4-4dc8-b9fb-6d0ee358ecc0"
      },
      "execution_count": 10,
      "outputs": [
        {
          "output_type": "stream",
          "name": "stdout",
          "text": [
            "There are 31536000 seconds in a year!\n"
          ]
        }
      ]
    },
    {
      "cell_type": "code",
      "source": [
        "SENTENCE_START: str = \"Panaversity is fun. I learned to program and used Python to make my \" # adjective noun verb\n",
        "\n",
        "def main():\n",
        "    # Get the three inputs from the user to make the adlib\n",
        "    adjective: str = input(\"Please type an adjective and press enter. \")\n",
        "    noun: str = input(\"Please type a noun and press enter. \")\n",
        "    verb: str = input(\"Please type a verb and press enter. \")\n",
        "\n",
        "    # Join the inputs together with the sentence starter\n",
        "    print(SENTENCE_START + adjective + \" \" + noun + \" \" + verb + \"!\")\n",
        "\n",
        "\n",
        "# There is no need to edit code beyond this point\n",
        "\n",
        "if __name__ == '__main__':\n",
        "    main()"
      ],
      "metadata": {
        "colab": {
          "base_uri": "https://localhost:8080/"
        },
        "id": "7Th5HJG_DTXn",
        "outputId": "065bdc30-d612-4eeb-dc15-0de9d4cbe060"
      },
      "execution_count": 11,
      "outputs": [
        {
          "output_type": "stream",
          "name": "stdout",
          "text": [
            "Please type an adjective and press enter. cool\n",
            "Please type a noun and press enter. app\n",
            "Please type a verb and press enter. developer\n",
            "Panaversity is fun. I learned to program and used Python to make my cool app developer!\n"
          ]
        }
      ]
    }
  ]
}